{
 "cells": [
  {
   "cell_type": "code",
   "execution_count": 1,
   "metadata": {
    "collapsed": true
   },
   "outputs": [],
   "source": [
    "import pandas as pd\n",
    "import numpy as np\n",
    "import matplotlib.pyplot as plt\n",
    "import jieba\n",
    "from sklearn.feature_extraction.text import CountVectorizer\n",
    "from sklearn.linear_model import LogisticRegression\n",
    "from sklearn.metrics import precision_score\n",
    "from sklearn.svm import LinearSVC\n",
    "from sklearn.neural_network import MLPClassifier\n",
    "from sklearn.ensemble import RandomForestClassifier\n",
    "from joblib import dump,load"
   ]
  },
  {
   "cell_type": "markdown",
   "metadata": {},
   "source": [
    "# 读入数据"
   ]
  },
  {
   "cell_type": "code",
   "execution_count": 2,
   "metadata": {},
   "outputs": [
    {
     "name": "stdout",
     "output_type": "stream",
     "text": [
      "Index(['微博id', '微博发布时间', '发布人账号', '微博中文内容', '微博图片', '微博视频', '情感倾向'], dtype='object')\n",
      "(100000, 7)\n"
     ]
    }
   ],
   "source": [
    "df=pd.read_csv('nCoV_100k_train.labled.csv',encoding='utf-8')\n",
    "df=df.sample(frac=1.0).reset_index(drop=True)\n",
    "print(df.columns)\n",
    "print(df.shape)"
   ]
  },
  {
   "cell_type": "markdown",
   "metadata": {},
   "source": [
    "# 数据清洗"
   ]
  },
  {
   "cell_type": "code",
   "execution_count": 3,
   "metadata": {},
   "outputs": [
    {
     "name": "stdout",
     "output_type": "stream",
     "text": [
      "(99910, 7)\n"
     ]
    }
   ],
   "source": [
    "# anomaly data\n",
    "df=df[df['情感倾向'].isin(['0','1','-1'])]\n",
    "# duplicate data\n",
    "df=df.drop_duplicates(['微博id'])\n",
    "# reset index\n",
    "df=df.reset_index(drop=True)\n",
    "print(df.shape)"
   ]
  },
  {
   "cell_type": "code",
   "execution_count": 4,
   "metadata": {},
   "outputs": [
    {
     "name": "stdout",
     "output_type": "stream",
     "text": [
      "(99910, 7)\n"
     ]
    }
   ],
   "source": [
    "# convert string to int\n",
    "map_class={'-1':-1,'0':0,'1':1}\n",
    "df['情感倾向'] = df['情感倾向'].map(map_class)\n",
    "print(df.shape)"
   ]
  },
  {
   "cell_type": "code",
   "execution_count": 5,
   "metadata": {},
   "outputs": [
    {
     "name": "stdout",
     "output_type": "stream",
     "text": [
      "-1    16902\n",
      " 0    57617\n",
      " 1    25391\n",
      "Name: 情感倾向, dtype: int64\n"
     ]
    },
    {
     "data": {
      "image/png": "[encoded data removed]",
      "text/plain": [
       "<Figure size 432x288 with 1 Axes>"
      ]
     },
     "metadata": {},
     "output_type": "display_data"
    }
   ],
   "source": [
    "nums_sentiment=df['情感倾向'].value_counts().sort_index()\n",
    "print(nums_sentiment)\n",
    "nums_sentiment.plot.bar()\n",
    "plt.title('sentiment(target)')\n",
    "plt.xlabel('sentiment')\n",
    "plt.ylabel('number')\n",
    "plt.show()"
   ]
  },
  {
   "cell_type": "markdown",
   "metadata": {},
   "source": [
    "# 准备各数据集"
   ]
  },
  {
   "cell_type": "code",
   "execution_count": 6,
   "metadata": {},
   "outputs": [
    {
     "name": "stdout",
     "output_type": "stream",
     "text": [
      "(79928, 7)\n",
      "(9991, 7)\n",
      "(9991, 7)\n"
     ]
    }
   ],
   "source": [
    "# split train_data, CV_data and test_data\n",
    "train_per=0.8\n",
    "CV_per=0.1\n",
    "train_index=int(df.shape[0]*train_per)\n",
    "CV_index=int(df.shape[0]*(train_per+CV_per))\n",
    "train_df=df.iloc[:train_index,:]\n",
    "CV_df=df.iloc[train_index:CV_index,:]\n",
    "test_df=df.iloc[CV_index:,:]\n",
    "print(train_df.shape)\n",
    "print(CV_df.shape)\n",
    "print(test_df.shape)"
   ]
  },
  {
   "cell_type": "code",
   "execution_count": 7,
   "metadata": {},
   "outputs": [
    {
     "name": "stdout",
     "output_type": "stream",
     "text": [
      "(79928,)\n",
      "(79928,)\n",
      "(9991,)\n",
      "(9991,)\n"
     ]
    }
   ],
   "source": [
    "# split features and label\n",
    "train_X=train_df['微博中文内容']\n",
    "train_y=train_df['情感倾向']\n",
    "CV_X=CV_df['微博中文内容']\n",
    "CV_y=CV_df['情感倾向']\n",
    "test_X=test_df['微博中文内容']\n",
    "test_y=test_df['情感倾向']\n",
    "print(train_X.shape)\n",
    "print(train_y.shape)\n",
    "print(test_X.shape)\n",
    "print(test_y.shape)"
   ]
  },
  {
   "cell_type": "markdown",
   "metadata": {},
   "source": [
    "# 特征工程"
   ]
  },
  {
   "cell_type": "code",
   "execution_count": 8,
   "metadata": {},
   "outputs": [
    {
     "name": "stderr",
     "output_type": "stream",
     "text": [
      "Building prefix dict from the default dictionary ...\n",
      "Loading model from cache C:\\Users\\Shazam\\AppData\\Local\\Temp\\jieba.cache\n",
      "Loading model cost 0.762 seconds.\n",
      "Prefix dict has been built successfully.\n"
     ]
    },
    {
     "name": "stdout",
     "output_type": "stream",
     "text": [
      "(99910,)\n",
      "# 生活 提示 # 【 鞋会 把 病毒 带回家 吗 ？ 】 中国 疾控中心 研究员 冯录 召 ： 新型 冠状病毒 目前 主要 还是 通过 近距离 的 呼吸道 飞沫 传播 ， 或者 接触 传播 。 飞沫 沉降 到 地面 之后 ， 鞋子 就算 有 可能 沾染到 病毒 ， 量 也 非常少 ， 在 日常生活 中 不 需要 对 鞋底 进行 消毒 ， 保持清洁 即可 。 建议 回家 之后 ， 在 门口 换鞋 。 L 央视 新闻 的 微博 视频 ? 展开 全文 c\n"
     ]
    },
    {
     "data": {
      "text/plain": [
       "CountVectorizer(analyzer='word', binary=False, decode_error='strict',\n",
       "        dtype=<class 'numpy.int64'>, encoding='utf-8', input='content',\n",
       "        lowercase=True, max_df=1.0, max_features=None, min_df=1,\n",
       "        ngram_range=(1, 1), preprocessor=None, stop_words=None,\n",
       "        strip_accents=None, token_pattern='\\\\w{1,}', tokenizer=None,\n",
       "        vocabulary=None)"
      ]
     },
     "execution_count": 8,
     "metadata": {},
     "output_type": "execute_result"
    }
   ],
   "source": [
    "# build count_vect on all weibos\n",
    "texts_cut=df['微博中文内容'].apply(lambda x:\" \".join(jieba.cut(str(x))))\n",
    "print(texts_cut.shape)\n",
    "print(texts_cut[0])\n",
    "count_vect=CountVectorizer(analyzer='word',token_pattern=r'\\w{1,}')\n",
    "count_vect.fit(texts_cut)"
   ]
  },
  {
   "cell_type": "code",
   "execution_count": 9,
   "metadata": {
    "collapsed": true
   },
   "outputs": [],
   "source": [
    "def textToFeatures(texts,count_vect):\n",
    "    # word cut\n",
    "    texts_cut=texts.apply(lambda x:\" \".join(jieba.cut(str(x))))\n",
    "    # vectorize\n",
    "    texts_count=count_vect.transform(texts_cut)\n",
    "    return texts_count"
   ]
  },
  {
   "cell_type": "code",
   "execution_count": 10,
   "metadata": {
    "collapsed": true
   },
   "outputs": [],
   "source": [
    "train_X_count=textToFeatures(train_X,count_vect)\n",
    "CV_X_count=textToFeatures(CV_X,count_vect)\n",
    "test_X_count=textToFeatures(test_X,count_vect)"
   ]
  },
  {
   "cell_type": "code",
   "execution_count": 11,
   "metadata": {},
   "outputs": [
    {
     "name": "stdout",
     "output_type": "stream",
     "text": [
      "(79928, 149037)\n",
      "(9991, 149037)\n",
      "(9991, 149037)\n",
      "<class 'scipy.sparse.csr.csr_matrix'>\n",
      "<class 'pandas.core.series.Series'>\n"
     ]
    }
   ],
   "source": [
    "print(train_X_count.shape)\n",
    "print(CV_X_count.shape)\n",
    "print(test_X_count.shape)\n",
    "print(type(train_X_count))\n",
    "print(type(train_y))"
   ]
  },
  {
   "cell_type": "markdown",
   "metadata": {},
   "source": [
    "# 模型搭建"
   ]
  },
  {
   "cell_type": "markdown",
   "metadata": {},
   "source": [
    "## LR"
   ]
  },
  {
   "cell_type": "code",
   "execution_count": 12,
   "metadata": {
    "collapsed": true
   },
   "outputs": [],
   "source": [
    "def logisticRegression(X_count,y,max_iter=3000):\n",
    "    lr=LogisticRegression(max_iter=max_iter)\n",
    "    lr.fit(X_count,y)\n",
    "    return lr"
   ]
  },
  {
   "cell_type": "markdown",
   "metadata": {},
   "source": [
    "## SVM"
   ]
  },
  {
   "cell_type": "code",
   "execution_count": 13,
   "metadata": {
    "collapsed": true
   },
   "outputs": [],
   "source": [
    "def SVM(X_count,y,max_iter=5000):\n",
    "    svc=LinearSVC(max_iter=max_iter)\n",
    "    svc.fit(X_count,y)\n",
    "    return svc"
   ]
  },
  {
   "cell_type": "markdown",
   "metadata": {},
   "source": [
    "## MLP"
   ]
  },
  {
   "cell_type": "code",
   "execution_count": 14,
   "metadata": {
    "collapsed": true
   },
   "outputs": [],
   "source": [
    "def MLP(X_count,y,max_iter=10):\n",
    "    mlp=MLPClassifier(hidden_layer_sizes=(128,64,32),verbose=True,max_iter=max_iter)\n",
    "    mlp.fit(X_count,y)\n",
    "    return mlp"
   ]
  },
  {
   "cell_type": "markdown",
   "metadata": {},
   "source": [
    "## RF"
   ]
  },
  {
   "cell_type": "code",
   "execution_count": 15,
   "metadata": {
    "collapsed": true
   },
   "outputs": [],
   "source": [
    "def randomForest(X_count,y,n_trees=100):\n",
    "    rf=RandomForestClassifier(n_estimators=n_trees)\n",
    "    rf.fit(X_count,y)\n",
    "    return rf"
   ]
  },
  {
   "cell_type": "markdown",
   "metadata": {},
   "source": [
    "# 模型训练"
   ]
  },
  {
   "cell_type": "code",
   "execution_count": 16,
   "metadata": {},
   "outputs": [
    {
     "name": "stderr",
     "output_type": "stream",
     "text": [
      "C:\\Users\\Shazam\\AppData\\Local\\conda\\conda\\envs\\tensorflow\\lib\\site-packages\\sklearn\\linear_model\\logistic.py:432: FutureWarning: Default solver will be changed to 'lbfgs' in 0.22. Specify a solver to silence this warning.\n",
      "  FutureWarning)\n",
      "C:\\Users\\Shazam\\AppData\\Local\\conda\\conda\\envs\\tensorflow\\lib\\site-packages\\sklearn\\linear_model\\logistic.py:459: FutureWarning: Default multi_class will be changed to 'auto' in 0.22. Specify the multi_class option to silence this warning.\n",
      "  \"this warning.\", FutureWarning)\n"
     ]
    }
   ],
   "source": [
    "lr=logisticRegression(train_X_count,train_y.values)"
   ]
  },
  {
   "cell_type": "code",
   "execution_count": 17,
   "metadata": {},
   "outputs": [
    {
     "name": "stderr",
     "output_type": "stream",
     "text": [
      "C:\\Users\\Shazam\\AppData\\Local\\conda\\conda\\envs\\tensorflow\\lib\\site-packages\\sklearn\\svm\\base.py:922: ConvergenceWarning: Liblinear failed to converge, increase the number of iterations.\n",
      "  \"the number of iterations.\", ConvergenceWarning)\n"
     ]
    }
   ],
   "source": [
    "svc=SVM(train_X_count,train_y.values)"
   ]
  },
  {
   "cell_type": "code",
   "execution_count": 18,
   "metadata": {},
   "outputs": [
    {
     "name": "stdout",
     "output_type": "stream",
     "text": [
      "Iteration 1, loss = 0.67313869\n",
      "Iteration 2, loss = 0.40227353\n",
      "Iteration 3, loss = 0.22448753\n",
      "Iteration 4, loss = 0.13662920\n",
      "Iteration 5, loss = 0.09879459\n",
      "Iteration 6, loss = 0.08303651\n",
      "Iteration 7, loss = 0.07263887\n",
      "Iteration 8, loss = 0.06713806\n",
      "Iteration 9, loss = 0.06456697\n",
      "Iteration 10, loss = 0.06283976\n"
     ]
    },
    {
     "name": "stderr",
     "output_type": "stream",
     "text": [
      "C:\\Users\\Shazam\\AppData\\Local\\conda\\conda\\envs\\tensorflow\\lib\\site-packages\\sklearn\\neural_network\\multilayer_perceptron.py:562: ConvergenceWarning: Stochastic Optimizer: Maximum iterations (10) reached and the optimization hasn't converged yet.\n",
      "  % self.max_iter, ConvergenceWarning)\n"
     ]
    }
   ],
   "source": [
    "mlp=MLP(train_X_count,train_y.values)"
   ]
  },
  {
   "cell_type": "code",
   "execution_count": 19,
   "metadata": {
    "collapsed": true
   },
   "outputs": [],
   "source": [
    "rf=randomForest(train_X_count,train_y.values)"
   ]
  },
  {
   "cell_type": "markdown",
   "metadata": {},
   "source": [
    "# 验证集预测"
   ]
  },
  {
   "cell_type": "markdown",
   "metadata": {},
   "source": [
    "## LR"
   ]
  },
  {
   "cell_type": "code",
   "execution_count": 20,
   "metadata": {},
   "outputs": [
    {
     "name": "stdout",
     "output_type": "stream",
     "text": [
      "0.7221499349414473\n"
     ]
    }
   ],
   "source": [
    "lr_predict=lr.predict(CV_X_count)\n",
    "acc_lr=precision_score(y_true=CV_y,y_pred=lr_predict,average='micro')\n",
    "print(acc_lr)"
   ]
  },
  {
   "cell_type": "markdown",
   "metadata": {},
   "source": [
    "## SVM"
   ]
  },
  {
   "cell_type": "code",
   "execution_count": 21,
   "metadata": {},
   "outputs": [
    {
     "name": "stdout",
     "output_type": "stream",
     "text": [
      "0.6894204784305875\n"
     ]
    }
   ],
   "source": [
    "svc_predict=svc.predict(CV_X_count)\n",
    "acc_svc=precision_score(y_true=CV_y,y_pred=svc_predict,average='micro')\n",
    "print(acc_svc)"
   ]
  },
  {
   "cell_type": "markdown",
   "metadata": {},
   "source": [
    "## MLP"
   ]
  },
  {
   "cell_type": "code",
   "execution_count": 22,
   "metadata": {},
   "outputs": [
    {
     "name": "stdout",
     "output_type": "stream",
     "text": [
      "0.714442998698829\n"
     ]
    }
   ],
   "source": [
    "mlp_predict=mlp.predict(CV_X_count)\n",
    "acc_mlp=precision_score(y_true=CV_y,y_pred=mlp_predict,average='micro')\n",
    "print(acc_mlp)"
   ]
  },
  {
   "cell_type": "markdown",
   "metadata": {},
   "source": [
    "## RF"
   ]
  },
  {
   "cell_type": "code",
   "execution_count": 23,
   "metadata": {},
   "outputs": [
    {
     "name": "stdout",
     "output_type": "stream",
     "text": [
      "0.7177459713742368\n"
     ]
    }
   ],
   "source": [
    "rf_predict=rf.predict(CV_X_count)\n",
    "acc_rf=precision_score(y_true=CV_y,y_pred=rf_predict,average='micro')\n",
    "print(acc_rf)"
   ]
  },
  {
   "cell_type": "code",
   "execution_count": 40,
   "metadata": {
    "collapsed": true
   },
   "outputs": [],
   "source": [
    "best_model=lr"
   ]
  },
  {
   "cell_type": "code",
   "execution_count": 28,
   "metadata": {},
   "outputs": [
    {
     "data": {
      "text/plain": [
       "['rf.joblib']"
      ]
     },
     "execution_count": 28,
     "metadata": {},
     "output_type": "execute_result"
    }
   ],
   "source": [
    "# save the best model\n",
    "dump(best_model,'best_model.joblib')\n",
    "#best_model=load('best_model.joblib')\n",
    "dump(lr,'lr.joblib')\n",
    "dump(svc,'svc.joblib')\n",
    "dump(mlp,'mlp.joblib')\n",
    "dump(rf,'rf.joblib')"
   ]
  },
  {
   "cell_type": "markdown",
   "metadata": {},
   "source": [
    "# 测试集测试"
   ]
  },
  {
   "cell_type": "markdown",
   "metadata": {},
   "source": [
    "## best model"
   ]
  },
  {
   "cell_type": "code",
   "execution_count": 41,
   "metadata": {},
   "outputs": [
    {
     "name": "stdout",
     "output_type": "stream",
     "text": [
      "0.723050745671104\n"
     ]
    }
   ],
   "source": [
    "test_pred=best_model.predict(test_X_count)\n",
    "acc_best_model=precision_score(y_true=test_y,y_pred=test_pred,average='micro')\n",
    "print(acc_best_model)"
   ]
  },
  {
   "cell_type": "code",
   "execution_count": 32,
   "metadata": {},
   "outputs": [
    {
     "name": "stdout",
     "output_type": "stream",
     "text": [
      "[1389, 6326, 2276]\n",
      "[1699 5777 2515]\n"
     ]
    }
   ],
   "source": [
    "pred_num=[np.sum(test_pred==-1),np.sum(test_pred==0),np.sum(test_pred==1)]\n",
    "true_num=test_y.value_counts().sort_index()\n",
    "print(pred_num)\n",
    "print(true_num.values)"
   ]
  },
  {
   "cell_type": "code",
   "execution_count": 33,
   "metadata": {},
   "outputs": [
    {
     "data": {
      "image/png": "[encoded data removed]",
      "text/plain": [
       "<Figure size 432x288 with 1 Axes>"
      ]
     },
     "metadata": {},
     "output_type": "display_data"
    }
   ],
   "source": [
    "width=0.35\n",
    "x_position=[width,1+width,2+width]\n",
    "plt.bar([\"-1\",\"0\",\"1\"],pred_num,width=width,align='edge',label=\"predict\")\n",
    "plt.bar([0,1,2],true_num,width=-width,align='edge',label=\"truth\")\n",
    "plt.legend()\n",
    "plt.title('best model')\n",
    "plt.xlabel('sentiment')\n",
    "plt.ylabel('number')\n",
    "plt.show()"
   ]
  }
 ],
 "metadata": {
  "kernelspec": {
   "display_name": "Python 3",
   "language": "python",
   "name": "python3"
  },
  "language_info": {
   "codemirror_mode": {
    "name": "ipython",
    "version": 3
   },
   "file_extension": ".py",
   "mimetype": "text/x-python",
   "name": "python",
   "nbconvert_exporter": "python",
   "pygments_lexer": "ipython3",
   "version": "3.5.6"
  }
 },
 "nbformat": 4,
 "nbformat_minor": 4
}
