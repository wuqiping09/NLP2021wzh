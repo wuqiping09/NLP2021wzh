{
 "cells": [
  {
   "cell_type": "code",
   "execution_count": 14,
   "metadata": {
    "collapsed": true
   },
   "outputs": [],
   "source": [
    "import pandas as pd\n",
    "import numpy as np\n",
    "import matplotlib.pyplot as plt\n",
    "import jieba\n",
    "from sklearn.feature_extraction.text import CountVectorizer\n",
    "from sklearn.linear_model import LogisticRegression\n",
    "from sklearn.metrics import precision_score\n",
    "from joblib import dump,load"
   ]
  },
  {
   "cell_type": "markdown",
   "metadata": {},
   "source": [
    "# 读入数据"
   ]
  },
  {
   "cell_type": "code",
   "execution_count": 2,
   "metadata": {},
   "outputs": [
    {
     "name": "stdout",
     "output_type": "stream",
     "text": [
      "Index(['微博id', '微博发布时间', '发布人账号', '微博中文内容', '微博图片', '微博视频', '情感倾向'], dtype='object')\n",
      "(100000, 7)\n"
     ]
    }
   ],
   "source": [
    "# load data\n",
    "df=pd.read_csv('nCoV_100k_train.labled.csv',encoding='utf-8')\n",
    "df=df.sample(frac=1.0).reset_index(drop=True)\n",
    "print(df.columns)\n",
    "print(df.shape)"
   ]
  },
  {
   "cell_type": "markdown",
   "metadata": {},
   "source": [
    "# 数据清洗"
   ]
  },
  {
   "cell_type": "code",
   "execution_count": 3,
   "metadata": {},
   "outputs": [
    {
     "name": "stdout",
     "output_type": "stream",
     "text": [
      "(99910, 7)\n"
     ]
    }
   ],
   "source": [
    "# anomaly data\n",
    "df=df[df['情感倾向'].isin(['0','1','-1'])]\n",
    "# drop duplicate data\n",
    "df=df.drop_duplicates(['微博id'])\n",
    "# reset index\n",
    "df=df.reset_index(drop=True)\n",
    "print(df.shape)"
   ]
  },
  {
   "cell_type": "code",
   "execution_count": 4,
   "metadata": {},
   "outputs": [
    {
     "name": "stdout",
     "output_type": "stream",
     "text": [
      "(99910, 7)\n"
     ]
    }
   ],
   "source": [
    "# convert string to int\n",
    "map_class={'-1':-1,'0':0,'1':1}\n",
    "df['情感倾向'] = df['情感倾向'].map(map_class)\n",
    "print(df.shape)"
   ]
  },
  {
   "cell_type": "markdown",
   "metadata": {},
   "source": [
    "# 准备各数据集"
   ]
  },
  {
   "cell_type": "code",
   "execution_count": 5,
   "metadata": {},
   "outputs": [
    {
     "name": "stdout",
     "output_type": "stream",
     "text": [
      "(79928, 7)\n",
      "(9991, 7)\n",
      "(9991, 7)\n"
     ]
    }
   ],
   "source": [
    "# split train_data, CV_data and test_data\n",
    "train_per=0.8\n",
    "CV_per=0.1\n",
    "train_index=int(df.shape[0]*train_per)\n",
    "CV_index=int(df.shape[0]*(train_per+CV_per))\n",
    "train_df=df.iloc[:train_index,:]\n",
    "CV_df=df.iloc[train_index:CV_index,:]\n",
    "test_df=df.iloc[CV_index:,:]\n",
    "print(train_df.shape)\n",
    "print(CV_df.shape)\n",
    "print(test_df.shape)"
   ]
  },
  {
   "cell_type": "code",
   "execution_count": 6,
   "metadata": {},
   "outputs": [
    {
     "name": "stdout",
     "output_type": "stream",
     "text": [
      "(79928,)\n",
      "(79928,)\n",
      "(9991,)\n",
      "(9991,)\n"
     ]
    }
   ],
   "source": [
    "# split features and label\n",
    "train_X=train_df['微博中文内容']\n",
    "train_y=train_df['情感倾向']\n",
    "CV_X=CV_df['微博中文内容']\n",
    "CV_y=CV_df['情感倾向']\n",
    "test_X=test_df['微博中文内容']\n",
    "test_y=test_df['情感倾向']\n",
    "print(train_X.shape)\n",
    "print(train_y.shape)\n",
    "print(test_X.shape)\n",
    "print(test_y.shape)"
   ]
  },
  {
   "cell_type": "markdown",
   "metadata": {},
   "source": [
    "# 特征工程"
   ]
  },
  {
   "cell_type": "code",
   "execution_count": 7,
   "metadata": {},
   "outputs": [
    {
     "name": "stderr",
     "output_type": "stream",
     "text": [
      "Building prefix dict from the default dictionary ...\n",
      "Loading model from cache C:\\Users\\Shazam\\AppData\\Local\\Temp\\jieba.cache\n",
      "Loading model cost 0.808 seconds.\n",
      "Prefix dict has been built successfully.\n"
     ]
    },
    {
     "name": "stdout",
     "output_type": "stream",
     "text": [
      "(99910,)\n",
      "[ 推荐 ] 基层 中小学 高级职称 需要 强化 过程 性 评审 。 查看 ? ? ? ? ? ? O 网页 链接 梁好 蒲公英 评论 特约 评论员 日前 ， 山东省 教育厅 、 省人 社厅 联合 印发 《 山东省 基层 中小学 教师 高级职称 评审 条件 指导 标准 》 （ 以下 简称 《 标准 》 ） 明确 ， 在 山东省 基层 中小学 增设 基层 中小学 教师 高级职称 ， 名称 为 基层 中小学 高 ? 展开 全文 c\n"
     ]
    },
    {
     "data": {
      "text/plain": [
       "CountVectorizer(analyzer='word', binary=False, decode_error='strict',\n",
       "        dtype=<class 'numpy.int64'>, encoding='utf-8', input='content',\n",
       "        lowercase=True, max_df=1.0, max_features=None, min_df=1,\n",
       "        ngram_range=(2, 2), preprocessor=None, stop_words=None,\n",
       "        strip_accents=None, token_pattern='\\\\w{1,}', tokenizer=None,\n",
       "        vocabulary=None)"
      ]
     },
     "execution_count": 7,
     "metadata": {},
     "output_type": "execute_result"
    }
   ],
   "source": [
    "# build count_vect on all weibos\n",
    "texts_cut=df['微博中文内容'].apply(lambda x:\" \".join(jieba.cut(str(x))))\n",
    "print(texts_cut.shape)\n",
    "print(texts_cut[0])\n",
    "# use different n-gram extractors\n",
    "count_vect_11=CountVectorizer(ngram_range=(1,1),analyzer='word',token_pattern=r'\\w{1,}')\n",
    "count_vect_12=CountVectorizer(ngram_range=(1,2),analyzer='word',token_pattern=r'\\w{1,}')\n",
    "count_vect_22=CountVectorizer(ngram_range=(2,2),analyzer='word',token_pattern=r'\\w{1,}')\n",
    "count_vect_11.fit(texts_cut)\n",
    "count_vect_12.fit(texts_cut)\n",
    "count_vect_22.fit(texts_cut)\n",
    "#X_count=count_vect.fit_transform(texts_cut)"
   ]
  },
  {
   "cell_type": "code",
   "execution_count": 8,
   "metadata": {
    "collapsed": true
   },
   "outputs": [],
   "source": [
    "def textToFeatures(texts,count_vect):\n",
    "    # word cut\n",
    "    texts_cut=texts.apply(lambda x:\" \".join(jieba.cut(str(x))))\n",
    "    # vectorize\n",
    "    texts_count=count_vect.transform(texts_cut)\n",
    "    return texts_count"
   ]
  },
  {
   "cell_type": "code",
   "execution_count": 9,
   "metadata": {
    "collapsed": true
   },
   "outputs": [],
   "source": [
    "train_X_count_11=textToFeatures(train_X,count_vect_11)\n",
    "train_X_count_12=textToFeatures(train_X,count_vect_12)\n",
    "train_X_count_22=textToFeatures(train_X,count_vect_22)\n",
    "CV_X_count_11=textToFeatures(CV_X,count_vect_11)\n",
    "CV_X_count_12=textToFeatures(CV_X,count_vect_12)\n",
    "CV_X_count_22=textToFeatures(CV_X,count_vect_22)\n",
    "#test_X_count=textToFeatures(test_X,count_vect)"
   ]
  },
  {
   "cell_type": "code",
   "execution_count": 10,
   "metadata": {},
   "outputs": [
    {
     "name": "stdout",
     "output_type": "stream",
     "text": [
      "(79928, 149037)\n",
      "(79928, 1535275)\n",
      "(79928, 1386238)\n",
      "(9991, 149037)\n",
      "(9991, 1535275)\n",
      "(9991, 1386238)\n"
     ]
    }
   ],
   "source": [
    "print(train_X_count_11.shape)\n",
    "print(train_X_count_12.shape)\n",
    "print(train_X_count_22.shape)\n",
    "print(CV_X_count_11.shape)\n",
    "print(CV_X_count_12.shape)\n",
    "print(CV_X_count_22.shape)\n",
    "#print(test_X_count.shape)"
   ]
  },
  {
   "cell_type": "markdown",
   "metadata": {},
   "source": [
    "# 模型搭建"
   ]
  },
  {
   "cell_type": "code",
   "execution_count": 11,
   "metadata": {
    "collapsed": true
   },
   "outputs": [],
   "source": [
    "def logisticRegression(X_count,y,max_iter=3000):\n",
    "    lr=LogisticRegression(max_iter=max_iter)\n",
    "    lr.fit(X_count,y)\n",
    "    return lr"
   ]
  },
  {
   "cell_type": "markdown",
   "metadata": {},
   "source": [
    "# 模型训练"
   ]
  },
  {
   "cell_type": "code",
   "execution_count": 12,
   "metadata": {},
   "outputs": [
    {
     "name": "stderr",
     "output_type": "stream",
     "text": [
      "C:\\Users\\Shazam\\AppData\\Local\\conda\\conda\\envs\\tensorflow\\lib\\site-packages\\sklearn\\linear_model\\logistic.py:432: FutureWarning: Default solver will be changed to 'lbfgs' in 0.22. Specify a solver to silence this warning.\n",
      "  FutureWarning)\n",
      "C:\\Users\\Shazam\\AppData\\Local\\conda\\conda\\envs\\tensorflow\\lib\\site-packages\\sklearn\\linear_model\\logistic.py:459: FutureWarning: Default multi_class will be changed to 'auto' in 0.22. Specify the multi_class option to silence this warning.\n",
      "  \"this warning.\", FutureWarning)\n"
     ]
    }
   ],
   "source": [
    "lr_11=logisticRegression(train_X_count_11,train_y.values)\n",
    "lr_12=logisticRegression(train_X_count_12,train_y.values)\n",
    "lr_22=logisticRegression(train_X_count_22,train_y.values)"
   ]
  },
  {
   "cell_type": "markdown",
   "metadata": {},
   "source": [
    "# 验证集预测"
   ]
  },
  {
   "cell_type": "code",
   "execution_count": 15,
   "metadata": {},
   "outputs": [
    {
     "name": "stdout",
     "output_type": "stream",
     "text": [
      "0.7147432689420479\n"
     ]
    }
   ],
   "source": [
    "lr_11_predict=lr_11.predict(CV_X_count_11)\n",
    "acc_lr_11=precision_score(y_true=CV_y,y_pred=lr_11_predict,average='micro')\n",
    "print(acc_lr_11)"
   ]
  },
  {
   "cell_type": "code",
   "execution_count": 16,
   "metadata": {},
   "outputs": [
    {
     "name": "stdout",
     "output_type": "stream",
     "text": [
      "0.7337603843459113\n"
     ]
    }
   ],
   "source": [
    "lr_12_predict=lr_12.predict(CV_X_count_12)\n",
    "acc_lr_12=precision_score(y_true=CV_y,y_pred=lr_12_predict,average='micro')\n",
    "print(acc_lr_12)"
   ]
  },
  {
   "cell_type": "code",
   "execution_count": 17,
   "metadata": {},
   "outputs": [
    {
     "name": "stdout",
     "output_type": "stream",
     "text": [
      "0.7154438995095586\n"
     ]
    }
   ],
   "source": [
    "lr_22_predict=lr_22.predict(CV_X_count_22)\n",
    "acc_lr_22=precision_score(y_true=CV_y,y_pred=lr_22_predict,average='micro')\n",
    "print(acc_lr_22)"
   ]
  },
  {
   "cell_type": "code",
   "execution_count": 18,
   "metadata": {
    "collapsed": true
   },
   "outputs": [],
   "source": [
    "best_model=lr_12\n",
    "best_count_vect=count_vect_12"
   ]
  },
  {
   "cell_type": "code",
   "execution_count": 19,
   "metadata": {},
   "outputs": [
    {
     "data": {
      "text/plain": [
       "['count_vect_22.joblib']"
      ]
     },
     "execution_count": 19,
     "metadata": {},
     "output_type": "execute_result"
    }
   ],
   "source": [
    "# save the models\n",
    "dump(lr_11,'lr_11.joblib')\n",
    "dump(lr_12,'lr_12.joblib')\n",
    "dump(lr_22,'lr_22.joblib')\n",
    "# save the count vectorizors\n",
    "dump(count_vect_11,'count_vect_11.joblib')\n",
    "dump(count_vect_12,'count_vect_12.joblib')\n",
    "dump(count_vect_22,'count_vect_22.joblib')"
   ]
  },
  {
   "cell_type": "code",
   "execution_count": 20,
   "metadata": {},
   "outputs": [
    {
     "name": "stdout",
     "output_type": "stream",
     "text": [
      "CountVectorizer(analyzer='word', binary=False, decode_error='strict',\n",
      "        dtype=<class 'numpy.int64'>, encoding='utf-8', input='content',\n",
      "        lowercase=True, max_df=1.0, max_features=None, min_df=1,\n",
      "        ngram_range=(1, 2), preprocessor=None, stop_words=None,\n",
      "        strip_accents=None, token_pattern='\\\\w{1,}', tokenizer=None,\n",
      "        vocabulary=None)\n"
     ]
    }
   ],
   "source": [
    "# test load count vectorizor\n",
    "count_vect_test=load('count_vect_12.joblib')\n",
    "print(count_vect_test)"
   ]
  },
  {
   "cell_type": "markdown",
   "metadata": {},
   "source": [
    "# 测试集测试"
   ]
  },
  {
   "cell_type": "code",
   "execution_count": 22,
   "metadata": {},
   "outputs": [
    {
     "name": "stdout",
     "output_type": "stream",
     "text": [
      "(9991, 1535275)\n"
     ]
    }
   ],
   "source": [
    "test_X_count_12=textToFeatures(test_X,count_vect_test)\n",
    "print(test_X_count_12.shape)"
   ]
  },
  {
   "cell_type": "code",
   "execution_count": 23,
   "metadata": {},
   "outputs": [
    {
     "name": "stdout",
     "output_type": "stream",
     "text": [
      "0.7357621859673706\n"
     ]
    }
   ],
   "source": [
    "# predict class\n",
    "test_pred=best_model.predict(test_X_count_12)\n",
    "acc_best_model=precision_score(y_true=test_y,y_pred=test_pred,average='micro')\n",
    "print(acc_best_model)"
   ]
  },
  {
   "cell_type": "code",
   "execution_count": 25,
   "metadata": {},
   "outputs": [
    {
     "name": "stdout",
     "output_type": "stream",
     "text": [
      "[1347, 6297, 2347]\n",
      "[1659 5678 2654]\n"
     ]
    }
   ],
   "source": [
    "pred_num=[np.sum(test_pred==-1),np.sum(test_pred==0),np.sum(test_pred==1)]\n",
    "true_num=test_y.value_counts().sort_index()\n",
    "print(pred_num)\n",
    "print(true_num.values)"
   ]
  },
  {
   "cell_type": "code",
   "execution_count": 26,
   "metadata": {},
   "outputs": [
    {
     "data": {
      "image/png": "[encoded data removed]",
      "text/plain": [
       "<Figure size 432x288 with 1 Axes>"
      ]
     },
     "metadata": {},
     "output_type": "display_data"
    }
   ],
   "source": [
    "width=0.35\n",
    "x_position=[width,1+width,2+width]\n",
    "plt.bar([\"-1\",\"0\",\"1\"],pred_num,width=width,align='edge',label=\"predict\")\n",
    "plt.bar([0,1,2],true_num,width=-width,align='edge',label=\"truth\")\n",
    "plt.legend()\n",
    "plt.title('best model')\n",
    "plt.xlabel('sentiment')\n",
    "plt.ylabel('number')\n",
    "plt.show()"
   ]
  },
  {
   "cell_type": "markdown",
   "metadata": {},
   "source": [
    "# 预测概率"
   ]
  },
  {
   "cell_type": "code",
   "execution_count": 39,
   "metadata": {},
   "outputs": [
    {
     "name": "stdout",
     "output_type": "stream",
     "text": [
      "Index(['微博id', '微博发布时间', '发布人账号', '微博中文内容', '微博图片', '微博视频', '情感倾向'], dtype='object')\n",
      "(100000, 7)\n"
     ]
    }
   ],
   "source": [
    "# reread file\n",
    "all_df=pd.read_csv('nCoV_100k_train.labled.csv',encoding='utf-8')\n",
    "print(df.columns)\n",
    "print(df.shape)"
   ]
  },
  {
   "cell_type": "code",
   "execution_count": 40,
   "metadata": {},
   "outputs": [
    {
     "name": "stdout",
     "output_type": "stream",
     "text": [
      "(100000, 3)\n"
     ]
    }
   ],
   "source": [
    "# predict class probability on all weibos\n",
    "all_X_count_12=textToFeatures(all_df['微博中文内容'],count_vect_test)\n",
    "lr_predict_prob=lr_12.predict_proba(all_X_count_12)\n",
    "print(lr_predict_prob.shape)"
   ]
  },
  {
   "cell_type": "code",
   "execution_count": 41,
   "metadata": {},
   "outputs": [
    {
     "name": "stdout",
     "output_type": "stream",
     "text": [
      "(100000, 10)\n",
      "Index(['微博id', '微博发布时间', '发布人账号', '微博中文内容', '微博图片', '微博视频', '情感倾向', '-1', '0',\n",
      "       '1'],\n",
      "      dtype='object')\n"
     ]
    }
   ],
   "source": [
    "out_df=pd.DataFrame(data=lr_predict_prob,columns=['-1','0','1'])\n",
    "out_df=pd.concat([all_df,out_df],axis=1)\n",
    "print(out_df.shape)\n",
    "print(out_df.columns)"
   ]
  },
  {
   "cell_type": "code",
   "execution_count": 31,
   "metadata": {
    "collapsed": true
   },
   "outputs": [],
   "source": [
    "#np.savetxt('coarse_label_prob_100k.csv',lr_predict_prob,delimiter=',')"
   ]
  },
  {
   "cell_type": "code",
   "execution_count": 42,
   "metadata": {
    "collapsed": true
   },
   "outputs": [],
   "source": [
    "out_df.to_csv('coarse_label_prob_100k.csv')"
   ]
  }
 ],
 "metadata": {
  "kernelspec": {
   "display_name": "Python 3",
   "language": "python",
   "name": "python3"
  },
  "language_info": {
   "codemirror_mode": {
    "name": "ipython",
    "version": 3
   },
   "file_extension": ".py",
   "mimetype": "text/x-python",
   "name": "python",
   "nbconvert_exporter": "python",
   "pygments_lexer": "ipython3",
   "version": "3.5.6"
  }
 },
 "nbformat": 4,
 "nbformat_minor": 4
}
