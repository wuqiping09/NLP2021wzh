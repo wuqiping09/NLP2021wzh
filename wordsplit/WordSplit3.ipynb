{
 "cells": [
  {
   "cell_type": "markdown",
   "metadata": {},
   "source": [
    "# 基于LSTM分词"
   ]
  },
  {
   "cell_type": "code",
   "execution_count": 1,
   "metadata": {},
   "outputs": [
    {
     "name": "stderr",
     "output_type": "stream",
     "text": [
      "Using TensorFlow backend.\n"
     ]
    }
   ],
   "source": [
    "from keras.layers import Embedding,SimpleRNN,Dense,LSTM\n",
    "from keras.models import Sequential\n",
    "import numpy as np"
   ]
  },
  {
   "cell_type": "code",
   "execution_count": 2,
   "metadata": {
    "collapsed": true
   },
   "outputs": [],
   "source": [
    "def toIndex(s,dic):\n",
    "    # convert every character to index\n",
    "    x=[]\n",
    "    for ch in s:\n",
    "        if ch not in dic.keys():\n",
    "            x.append(0)\n",
    "        else:\n",
    "            x.append(dic[ch])\n",
    "    return x"
   ]
  },
  {
   "cell_type": "code",
   "execution_count": 3,
   "metadata": {
    "collapsed": true
   },
   "outputs": [],
   "source": [
    "def toCharacter(x,character_list):\n",
    "    # convert every index to character\n",
    "    res=''\n",
    "    #x_list=x.tolist()\n",
    "    #print(x_list)\n",
    "    for i in x:\n",
    "        #print(type(i))\n",
    "        if i==0:\n",
    "            break\n",
    "        res+=(character_list[i])\n",
    "    return res"
   ]
  },
  {
   "cell_type": "code",
   "execution_count": 4,
   "metadata": {
    "collapsed": true
   },
   "outputs": [],
   "source": [
    "def toTag(preds,length):\n",
    "    if preds.shape[1]!=4:\n",
    "        print('Wrong Length of Prediction! Should Be 4!')\n",
    "        return None\n",
    "    tags=['S','B','M','E']\n",
    "    res=[]\n",
    "    for i in range(length):\n",
    "        res.append(tags[np.argmax(preds[i])])\n",
    "    return res"
   ]
  },
  {
   "cell_type": "code",
   "execution_count": 5,
   "metadata": {
    "collapsed": true
   },
   "outputs": [],
   "source": [
    "def toResult(s,preds):\n",
    "    if len(s)!=len(preds):\n",
    "        print('Sentence Predict Match Fail!')\n",
    "        return None\n",
    "    res=[]\n",
    "    temp=''\n",
    "    for i in range(len(s)):\n",
    "        tag=np.argmax(preds[i])\n",
    "        if tag==0:               # S\n",
    "            if len(temp)>0:\n",
    "                res.append(temp)\n",
    "                temp=''\n",
    "            res.append(s[i])\n",
    "        elif tag==1:             # B\n",
    "            if len(temp)>0:\n",
    "                res.append(temp)\n",
    "                temp=''\n",
    "            temp+=s[i]\n",
    "        elif tag==2:             # M\n",
    "            temp+=s[i]\n",
    "        else:                    # E\n",
    "            if len(temp)>0:\n",
    "                temp+=s[i]\n",
    "                res.append(temp)\n",
    "                temp=''\n",
    "            else:                # appeared as first character\n",
    "                res.append(s[i])\n",
    "    return res"
   ]
  },
  {
   "cell_type": "code",
   "execution_count": 6,
   "metadata": {
    "collapsed": true
   },
   "outputs": [],
   "source": [
    "def readData(file_path):\n",
    "    data=[]\n",
    "    labels=[]\n",
    "    dic={}                  # map from character to index\n",
    "    character_list=['Nan']  # map from index to character\n",
    "    f=open(file_path,'r',encoding='utf-8')\n",
    "    if not f:\n",
    "        print('Open File Error!')\n",
    "        return None\n",
    "    line=f.readline()\n",
    "    index=1\n",
    "    sentence=[]\n",
    "    label=[]\n",
    "    maxL=0\n",
    "    while line:\n",
    "        if len(line)==4:\n",
    "            # add character into dic\n",
    "            if line[0] not in dic.keys():\n",
    "                character_list.append(line[0])\n",
    "                dic[line[0]]=index\n",
    "                index+=1\n",
    "            # add character to sentence\n",
    "            sentence.append(line[0])\n",
    "            # add label\n",
    "            if line[2]=='S':\n",
    "                label.append([1,0,0,0])\n",
    "            elif line[2]=='B':\n",
    "                label.append([0,1,0,0])\n",
    "            elif line[2]=='M':\n",
    "                label.append([0,0,1,0])\n",
    "            elif line[2]=='E':\n",
    "                label.append([0,0,0,1])\n",
    "            else:\n",
    "                print('Unrecognized Label!')\n",
    "        elif len(line)==1:               # end of a sentence\n",
    "            if len(sentence)>0:\n",
    "                data.append(sentence)\n",
    "                labels.append(label)\n",
    "                if len(sentence)>maxL:\n",
    "                    maxL=len(sentence)\n",
    "                sentence=[]\n",
    "                label=[]\n",
    "        else:\n",
    "            print('Anomaly Data Format!')\n",
    "        line=f.readline()\n",
    "    f.close()\n",
    "    print('Read File Complete')\n",
    "    \n",
    "    # convert character to index\n",
    "    train_X=[]\n",
    "    train_y=[]\n",
    "    if len(data)!=len(labels):\n",
    "        print('Data Label Match Fail!')\n",
    "        return None\n",
    "        \n",
    "    for i in range(len(data)):\n",
    "        if len(data[i])!=len(labels[i]):\n",
    "            return None\n",
    "        for j in range(len(data[i])):\n",
    "            train_X.append(dic[data[i][j]])\n",
    "            train_y.append(labels[i][j])\n",
    "    \n",
    "    return train_X,train_y,maxL,dic,character_list,data,labels"
   ]
  },
  {
   "cell_type": "code",
   "execution_count": 7,
   "metadata": {},
   "outputs": [
    {
     "name": "stdout",
     "output_type": "stream",
     "text": [
      "Read File Complete\n",
      "549\n",
      "5273\n",
      "(4399619,)\n",
      "(4399619, 4)\n"
     ]
    }
   ],
   "source": [
    "file_path='train.data'\n",
    "train_X,train_y,maxL,dic,character_list,data,labels=readData(file_path)\n",
    "train_X=np.array(train_X)\n",
    "train_y=np.array(train_y)\n",
    "print(maxL)\n",
    "print(len(dic))\n",
    "print(train_X.shape)\n",
    "print(train_y.shape)"
   ]
  },
  {
   "cell_type": "code",
   "execution_count": 8,
   "metadata": {},
   "outputs": [
    {
     "name": "stdout",
     "output_type": "stream",
     "text": [
      "Model: \"sequential_1\"\n",
      "_________________________________________________________________\n",
      "Layer (type)                 Output Shape              Param #   \n",
      "=================================================================\n",
      "embedding_1 (Embedding)      (None, None, 128)         675072    \n",
      "_________________________________________________________________\n",
      "lstm_1 (LSTM)                (None, 256)               394240    \n",
      "_________________________________________________________________\n",
      "dense_1 (Dense)              (None, 4)                 1028      \n",
      "=================================================================\n",
      "Total params: 1,070,340\n",
      "Trainable params: 1,070,340\n",
      "Non-trainable params: 0\n",
      "_________________________________________________________________\n",
      "None\n"
     ]
    }
   ],
   "source": [
    "model = Sequential()\n",
    "model.add(Embedding(len(dic)+1, 128))\n",
    "#model.add(SimpleRNN(32, return_sequences=True))\n",
    "#model.add(SimpleRNN(32, return_sequences=True))\n",
    "#model.add(SimpleRNN(32, return_sequences=True))\n",
    "#model.add(SimpleRNN(32))\n",
    "model.add(LSTM(256))\n",
    "model.add(Dense(4, activation='sigmoid'))#4 tag output\n",
    "print(model.summary())"
   ]
  },
  {
   "cell_type": "code",
   "execution_count": 9,
   "metadata": {
    "collapsed": true
   },
   "outputs": [],
   "source": [
    "model.compile(optimizer='rmsprop', loss='binary_crossentropy', metrics=['acc'])"
   ]
  },
  {
   "cell_type": "code",
   "execution_count": 10,
   "metadata": {},
   "outputs": [
    {
     "name": "stderr",
     "output_type": "stream",
     "text": [
      "C:\\Users\\Shazam\\AppData\\Local\\conda\\conda\\envs\\tensorflow\\lib\\site-packages\\tensorflow_core\\python\\framework\\indexed_slices.py:433: UserWarning: Converting sparse IndexedSlices to a dense Tensor of unknown shape. This may consume a large amount of memory.\n",
      "  \"Converting sparse IndexedSlices to a dense Tensor of unknown shape. \"\n"
     ]
    },
    {
     "name": "stdout",
     "output_type": "stream",
     "text": [
      "Train on 3959657 samples, validate on 439962 samples\n",
      "Epoch 1/1\n",
      "3959657/3959657 [==============================] - 620s 156us/step - loss: 0.3522 - acc: 0.8383 - val_loss: 0.3518 - val_acc: 0.8392\n"
     ]
    }
   ],
   "source": [
    "history = model.fit(train_X, train_y, epochs=1, batch_size=128, validation_split=0.1)"
   ]
  },
  {
   "cell_type": "code",
   "execution_count": 11,
   "metadata": {},
   "outputs": [
    {
     "data": {
      "image/png": "[encoded data removed]",
      "text/plain": [
       "<Figure size 432x288 with 1 Axes>"
      ]
     },
     "metadata": {},
     "output_type": "display_data"
    },
    {
     "data": {
      "image/png": "[encoded data removed]",
      "text/plain": [
       "<Figure size 432x288 with 1 Axes>"
      ]
     },
     "metadata": {},
     "output_type": "display_data"
    }
   ],
   "source": [
    "import matplotlib.pyplot as plt\n",
    "acc = history.history['acc']\n",
    "val_acc = history.history['val_acc']\n",
    "loss = history.history['loss']\n",
    "val_loss = history.history['val_loss']\n",
    "epochs = range(1, len(acc) + 1)\n",
    "plt.plot(epochs, acc, 'bo', label='Training acc')\n",
    "plt.plot(epochs, val_acc, 'b', label='Validation acc')\n",
    "plt.title('Training and validation accuracy')\n",
    "plt.legend()\n",
    "plt.figure()\n",
    "plt.plot(epochs, loss, 'bo', label='Training loss')\n",
    "plt.plot(epochs, val_loss, 'b', label='Validation loss')\n",
    "plt.title('Training and validation loss')\n",
    "plt.legend()\n",
    "plt.show()"
   ]
  },
  {
   "cell_type": "code",
   "execution_count": 12,
   "metadata": {},
   "outputs": [
    {
     "name": "stdout",
     "output_type": "stream",
     "text": [
      "['去年', '董云', '以539分', '考', '上', '了', '[', '广', '东', '工业', '大学', '，', '“', '学', '业', '还', '是', '妈', '妈', '？', '”', '曾', '让', '董云', '难', '以', '抉择', '，', '最终', '她', '选择', '了', '带着', '妈', '妈', '上', '大学', '，', '举家', '迁', '来', '广州', '，', '边', '读', '书', '，', '边', '照', '顾妈', '妈', '。']\n",
      "['“', '董云', '，', '热', '水袋', '充好', '了', '吗', '？', '”', '妈', '妈', '在', '房', '间', '擦着', '眼泪', '说', '，', '桌', '上', '的', '电', '热', '水袋', '刚', '充', '了', '[5分', '钟', '电', '，', '董云', '正', '抽', '空', '在', '客', '厅', '啃', '着', '隔夜', '的', '凉', '包子', '。']\n",
      "['摸', '摸', '热', '水袋', '温度', '差', '不多', '了', '，', '董云', '小心', '翼', '翼', '地', '放', '到', '妈', '妈', '脖子', '下', '，', '此时', '已', '是', '8点', '03分', '，', '她', '背起', '书', '包', '飞', '奔着', '下楼', '了', '。']\n",
      "['董云', '妈', '妈', '告', '诉', '记者', '，', '每逢', '天', '气', '变化', '，', '她', '就', '会', '难', '受', '，', '“', '手', '一', '直抖', '，', '还', '会', '流', '眼泪', '，', '这时', '我', '要', '用', '热', '水袋', '垫', '着', '脖子', '。']\n",
      "['”', '妈', '妈', '略', '带愧', '疚', '地', '说', '：', '“', '董云', '每天', '早', '上', '8点', '15分', '上', '课', '，', '但', '时', '常', '要', '帮', '我', '收拾', '到', '[8点', '才', '能', '出', '门', '。']\n"
     ]
    }
   ],
   "source": [
    "# some samples in training set\n",
    "for i in range(10,15):\n",
    "    s=data[i]\n",
    "    x=toIndex(s,dic)\n",
    "    #print(x)\n",
    "    pred=model.predict(x)\n",
    "    #print(toTag(pred,len(s)))\n",
    "    print(toResult(s,pred))"
   ]
  },
  {
   "cell_type": "code",
   "execution_count": 13,
   "metadata": {
    "collapsed": true
   },
   "outputs": [],
   "source": [
    "def readTestData(file_path):\n",
    "    data=[]\n",
    "    labels=[]\n",
    "    f=open(file_path,'r',encoding='utf-8')\n",
    "    if not f:\n",
    "        print('Open File Error!')\n",
    "        return None\n",
    "    line=f.readline()\n",
    "    sentence=[]\n",
    "    label=[]\n",
    "    while line:\n",
    "        if len(line)==4:\n",
    "            # add character to sentence\n",
    "            sentence.append(line[0])\n",
    "            # add label\n",
    "            if line[2]=='S':\n",
    "                label.append([1,0,0,0])\n",
    "            elif line[2]=='B':\n",
    "                label.append([0,1,0,0])\n",
    "            elif line[2]=='M':\n",
    "                label.append([0,0,1,0])\n",
    "            elif line[2]=='E':\n",
    "                label.append([0,0,0,1])\n",
    "            else:\n",
    "                print('Unrecognized Label!')\n",
    "        elif len(line)==1:               # end of a sentence\n",
    "            if len(sentence)>0:\n",
    "                data.append(sentence)\n",
    "                labels.append(label)\n",
    "                sentence=[]\n",
    "                label=[]\n",
    "        else:\n",
    "            print('Anomaly Data Format!')\n",
    "        line=f.readline()\n",
    "    f.close()\n",
    "    print('Read File Complete')\n",
    "    \n",
    "    # convert character to index\n",
    "    test_X=[]\n",
    "    test_y=[]\n",
    "    if len(data)!=len(labels):\n",
    "        print('Data Label Match Fail!')\n",
    "        return None\n",
    "        \n",
    "    for i in range(len(data)):\n",
    "        if len(data[i])!=len(labels[i]):\n",
    "            return None\n",
    "        for j in range(len(data[i])):\n",
    "            if data[i][j] not in dic.keys():\n",
    "                test_X.append(0)\n",
    "            else:\n",
    "                test_X.append(dic[data[i][j]])\n",
    "            test_y.append(labels[i][j])\n",
    "    \n",
    "    return test_X,test_y,data,labels"
   ]
  },
  {
   "cell_type": "code",
   "execution_count": 14,
   "metadata": {
    "collapsed": true
   },
   "outputs": [],
   "source": [
    "def P(y_pred,y):\n",
    "    # Precision\n",
    "    # y_pred.shape-->N*4\n",
    "    if len(y_pred)!=len(y):\n",
    "        print('Label Predict Match Fail!')\n",
    "        return None\n",
    "    tag_pred=np.argmax(y_pred,axis=1)\n",
    "    tag=np.argmax(y,axis=1)\n",
    "    res=np.array([0,0,0,0],dtype=np.float64)\n",
    "    count=0\n",
    "    for i in range(4):\n",
    "        for j in range(len(tag_pred)):\n",
    "            if tag_pred[j]==i:\n",
    "                count+=1\n",
    "                if tag[j]==i:\n",
    "                    res[i]+=1\n",
    "        if count>0:\n",
    "            res[i]/=count\n",
    "            count=0\n",
    "        else:\n",
    "            res[i]=1\n",
    "    return res"
   ]
  },
  {
   "cell_type": "code",
   "execution_count": 15,
   "metadata": {
    "collapsed": true
   },
   "outputs": [],
   "source": [
    "def R(y_pred,y):\n",
    "    # Recall\n",
    "    # y_pred.shape-->N*4\n",
    "    if len(y_pred)!=len(y):\n",
    "        print('Label Predict Match Fail!')\n",
    "        return None\n",
    "    tag_pred=np.argmax(y_pred,axis=1)\n",
    "    tag=np.argmax(y,axis=1)\n",
    "    res=np.array([0,0,0,0],dtype=np.float64)\n",
    "    count=0\n",
    "    for i in range(4):\n",
    "        for j in range(len(tag_pred)):\n",
    "            if tag[j]==i:\n",
    "                count+=1\n",
    "                if tag_pred[j]==i:\n",
    "                    res[i]+=1\n",
    "        if count>0:\n",
    "            res[i]/=count\n",
    "            count=0\n",
    "        else:\n",
    "            res[i]=1\n",
    "    return res"
   ]
  },
  {
   "cell_type": "code",
   "execution_count": 16,
   "metadata": {
    "collapsed": true
   },
   "outputs": [],
   "source": [
    "def F(P,R,alpha=1):\n",
    "    # F score\n",
    "    if len(P)!=len(R):\n",
    "        print('Length Match Fail!')\n",
    "        return None\n",
    "    res=np.array([0,0,0,0],dtype=np.float64)\n",
    "    for i in range(4):\n",
    "        if P[i]==0 and R[i]==0:\n",
    "            res[i]=0\n",
    "        else:\n",
    "            res[i]=P[i]*R[i]*(1+alpha**2)/(alpha*alpha*P[i]+R[i])\n",
    "    return res"
   ]
  },
  {
   "cell_type": "code",
   "execution_count": 17,
   "metadata": {},
   "outputs": [
    {
     "name": "stdout",
     "output_type": "stream",
     "text": [
      "Read File Complete\n",
      "(2042582,)\n",
      "(2042582, 4)\n"
     ]
    }
   ],
   "source": [
    "file_path='test.data'\n",
    "test_X,test_y,test_data,test_labels=readTestData(file_path)\n",
    "test_X=np.array(test_X)\n",
    "test_y=np.array(test_y)\n",
    "print(test_X.shape)\n",
    "print(test_y.shape)"
   ]
  },
  {
   "cell_type": "code",
   "execution_count": 19,
   "metadata": {},
   "outputs": [
    {
     "name": "stdout",
     "output_type": "stream",
     "text": [
      "0\n",
      "['红', '豆', '，', '绿', '豆', '都', '是', '排毒', '圣品', '，', '并', '且', '有', '高', '纤', '维', '低', '脂肪', '的', '特点', '。']\n",
      "-----------------------------------------\n",
      "1\n",
      "['山', '楂', '健', '脾', '开', '胃', '，', '消', '食', '减', '脂', '。']\n",
      "-----------------------------------------\n",
      "2\n",
      "['红枣', '调', '和', '胃气', '[', '补', '血润', '燥', '。']\n",
      "-----------------------------------------\n",
      "3\n",
      "['此方', '共用', '，', '有', '助', '各种', '单品', '的', '功', '效', '最', '大限度', '的', '发挥', '。']\n",
      "-----------------------------------------\n",
      "4\n",
      "['[龙', '山', '长', '参', '：', '主', '要', '作', '其用', '是', '刺', '激功', '能', '低', '下', '的', '生', '理', '系', '统', '，', '使', '其生', '理', '[生', '化', '反', '应', '趋于', '正常', '，', '并', '阻止', '由', '于', '各种', '原', '因', '引起', '的', '恶性', '循', '环', '，', '以达', '到', '[', '排毒', '养', '颜', '延年', '益', '寿', '的', '目', '的', '。']\n",
      "-----------------------------------------\n",
      "5\n",
      "['红', '豆', '[', '减肥', '食谱']\n",
      "-----------------------------------------\n",
      "6\n",
      "['[', '减肥', '食谱']\n",
      "-----------------------------------------\n",
      "7\n",
      "['材', '料', '：', '红', '豆', '[100克', '，', '绿', '豆', '[100克', '，', '山', '楂', '[30克', '，', '[龙', '山', '长', '参', '[6克', '，', '大枣', '[10', '枚']\n",
      "-----------------------------------------\n",
      "8\n",
      "['温馨', '提示', '：', '具体', '的', '克', '数', '去', '买', '的', '时', '候', '请', '人', '家', '帮', '你', '称', '下', '，', '看', '看', '[100克', '大', '概有', '多', '少', '，', '[', '回来', '就', '好', '办', '了', '，', '有', '点', '误', '差', '不', '要', '紧', '的', '。']\n",
      "-----------------------------------------\n",
      "9\n",
      "['做', '法', '：', '将', '所有', '材', '料', '共放', '在', '锅', '中', '，', '加', '[1000', '毫升', '冷', '水', '，', '煎到', '豆烂', '即']\n",
      "-----------------------------------------\n",
      "10\n",
      "['Tips', '：', '红', '豆', '和', '绿', '豆', '煮', '之前', '最好', '用', '冷', '水', '泡', '一个', '小时', '，', '会', '比', '较容', '易', '煮烂', '的', '。']\n",
      "-----------------------------------------\n",
      "11\n",
      "['《', '[', '新天', '龙', '八', '部', '》', '新旧', '版', '雷人', '剧情', '造', '型', '钟', '汉', '良', '大', '引', '争议', '段', '誉', '娘', '气']\n",
      "-----------------------------------------\n",
      "12\n",
      "['【', '[天', '龙', '八', '部', '滑雪', '板', '雷人', '[', '新天', '龙', '八', '部频', '现', '重口', '味', '木', '婉', '清蕾', '丝', '内裤', '蒙纱', '】', '由', '钟', '汉', '良', '、', '金', '基', '范', '等', '主演', '的', '电视', '剧', '《', '[', '新天', '龙', '八', '部', '》', '昨晚', '首播', '。']\n",
      "-----------------------------------------\n",
      "13\n",
      "['作', '为', '已', '是', '[', '第五', '度', '翻', '拍', '的', '《', '[天', '龙', '八', '部', '》', '，', '新', '版', '无疑', '是', '颠', '覆性', '最', '大', '的', '，', '也', '注', '定', '会', '是', '槽', '点', '最多', '的', '一', '部', '剧', '。']\n",
      "-----------------------------------------\n",
      "14\n",
      "['相', '较前', '[', '几', '版', '中', '所', '呈现', '的', '武', '侠', '意', '境', '，', '从', '昨晚', '的', '首播', '来', '看', '，', '《', '[', '新天', '龙', '八', '部', '》', '走', '上', '了', '一', '条', '披着', '武', '侠', '外', '衣', '的', '古装', '剧', '偶', '像', '之路', '，', '无论', '剧', '中明', '丽', '的', '色', '调', '，', '还', '是', '演', '员', '的', '表现', '，', '都', '难', '以', '看到', '武', '侠', '剧', '的', '影子', '。']\n",
      "-----------------------------------------\n",
      "15\n",
      "['而', '剧', '中', '除', '了', '颠', '覆性', '的', '剧情', '饱', '受', '诟病', '外', '，', '几乎', '每个', '出', '场', '角色', '的', '让', '观众', '感慨', '，', '“', '江', '湖', '还', '是', '那些', '江', '湖', '，', '人', '却', '不', '是', '那些', '江', '湖人', '。']\n",
      "-----------------------------------------\n",
      "16\n",
      "['”']\n",
      "-----------------------------------------\n",
      "17\n",
      "['部分', '人', '行', '道', '上', '人', '车', '混行', '；', '部分', '[', '非', '机动', '车', '道', '、', '人', '行', '道', '被', '占', '为', '泊', '车', '位', '；', '[', '占', '道', '经营', '…', '…', '对', '此', '，', '[民', '进', '漳州', '市', '委', '会', '建议', '，', '[', '主', '管', '部门', '应', '尽快', '组织', '专家', '科学', '编', '制', '城市', '步', '行', '和', '[', '自行', '车', '交', '通系', '统', '规划', '，', '构', '建', '和', '谐', '的', '[', '城市', '交', '通', '，', '倡', '导', '城市', '[', '低碳', '生', '活', '。']\n",
      "-----------------------------------------\n",
      "18\n",
      "['[民', '进', '漳州', '市', '委', '会', '提出', '，', '目前', '漳州', '市', '区', '人', '行', '道', '、', '[', '自行', '车', '交', '通系', '统', '主', '要', '存', '在', '以', '下', '问题', '：']\n",
      "-----------------------------------------\n",
      "19\n",
      "['人', '行', '道', '上', '人', '车', '混行', '，', '自', '从', '漳州', '市', '将', '部分', '路', '段', '[', '非', '机动', '车', '道', '撤', '并', '为', '[', '机动', '车', '道', '后', '，', '部分', '非', '机动', '车', '只能', '越', '位', '到', '人', '行', '道', '上', '；', '部分', '[', '非', '机动', '车', '道', '、', '人', '行', '道', '被', '占', '为', '泊', '车', '位', '，', '把', '人', '行', '和', '[', '非', '机动', '车', '道', '作', '为', '乱', '停乱', '放', '的', '场', '所', '也', '屡见', '不鲜', '；', '[', '占', '道', '经营', '现', '象', '依然', '存', '在', '，', '沿街', '店', '面', '为', '[', '招', '揽生', '意', '，', '把', '人', '行', '道', '当', '成', '堆', '积货', '物', '及', '经营', '的', '地', '方', '（', '如', '[', '世', '纪', '广场', '沿', '小', '吃', '街', '路', '段', '）', '。']\n",
      "-----------------------------------------\n",
      "Total Precision: [0.87783076 0.62189644 0.76111074 0.62192187]\n",
      "Total Recall: [0.71034964 0.71542087 0.31694604 0.69839634]\n",
      "Total F1 [0.75899095 0.65166003 0.30274256 0.64392245]\n"
     ]
    }
   ],
   "source": [
    "precisions=np.array([0,0,0,0],dtype=np.float64)\n",
    "recalls=np.array([0,0,0,0],dtype=np.float64)\n",
    "F1s=np.array([0,0,0,0],dtype=np.float64)\n",
    "num_test=len(test_data)\n",
    "for i in range(num_test):\n",
    "    \n",
    "    x=toIndex(test_data[i],dic)\n",
    "    s=toCharacter(x,character_list)\n",
    "    pred=model.predict(x)\n",
    "    \n",
    "    #print(s)\n",
    "    #print(toTag(pred,len(s)))\n",
    "    \n",
    "    # some samples in test set\n",
    "    if i<20:\n",
    "        print(i)\n",
    "        print(toResult(s,pred))\n",
    "        print('-----------------------------------------')\n",
    "    \n",
    "    precision=P(pred,test_labels[i])\n",
    "    recall=R(pred,test_labels[i])\n",
    "    F1=F(precision,recall)\n",
    "    precisions+=precision\n",
    "    recalls+=recall\n",
    "    F1s+=F1\n",
    "    \n",
    "    #print('Precision:',precision)\n",
    "    #print('Recall:',recall)\n",
    "    #print('F1 score:',F1)\n",
    "    #print('-----------------------------------------')\n",
    "\n",
    "precisions/=num_test\n",
    "recalls/=num_test\n",
    "F1s/=num_test\n",
    "print('Total Precision:',precisions)\n",
    "print('Total Recall:',recalls)\n",
    "print('Total F1',F1s)"
   ]
  },
  {
   "cell_type": "code",
   "execution_count": null,
   "metadata": {
    "collapsed": true
   },
   "outputs": [],
   "source": []
  }
 ],
 "metadata": {
  "kernelspec": {
   "display_name": "Python 3",
   "language": "python",
   "name": "python3"
  },
  "language_info": {
   "codemirror_mode": {
    "name": "ipython",
    "version": 3
   },
   "file_extension": ".py",
   "mimetype": "text/x-python",
   "name": "python",
   "nbconvert_exporter": "python",
   "pygments_lexer": "ipython3",
   "version": "3.5.6"
  }
 },
 "nbformat": 4,
 "nbformat_minor": 4
}
